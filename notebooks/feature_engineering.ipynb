{
 "cells": [
  {
   "cell_type": "code",
   "execution_count": null,
   "metadata": {},
   "outputs": [],
   "source": [
    "import pandas as pd\n",
    "import seaborn as sns\n",
    "import numpy as np\n",
    "\n",
    "from matplotlib import pyplot as plt\n",
    "from pylab import rcParams\n",
    "from heatmap import heatmap, corrplot\n",
    "\n",
    "\n",
    "sns.set(color_codes=True, font_scale=1.2)\n",
    "rcParams['figure.figsize'] = 7,7 \n",
    "\n",
    "%matplotlib inline\n",
    "%config InlineBackend.figure_format = 'retina'\n",
    "%load_ext autoreload\n",
    "%autoreload 2"
   ]
  },
  {
   "cell_type": "code",
   "execution_count": null,
   "metadata": {},
   "outputs": [],
   "source": [
    "train_data = pd.read_csv(\"../data/pre-processed/train.csv\", sep=',', index_col=0)\n",
    "\n",
    "target = train_data['SalePrice']\n",
    "train_data = train_data.drop(['SalePrice'], axis=1)\n",
    "\n",
    "train_data.head()"
   ]
  },
  {
   "cell_type": "code",
   "execution_count": null,
   "metadata": {},
   "outputs": [],
   "source": [
    "test_data = pd.read_csv(\"../data/pre-processed/test.csv\", sep=',', index_col=0)\n",
    "test_data.head()"
   ]
  },
  {
   "cell_type": "code",
   "execution_count": null,
   "metadata": {},
   "outputs": [],
   "source": [
    "train_data.describe()"
   ]
  },
  {
   "cell_type": "code",
   "execution_count": null,
   "metadata": {},
   "outputs": [],
   "source": [
    "train_data.isnull().sum()"
   ]
  },
  {
   "cell_type": "markdown",
   "metadata": {},
   "source": [
    "## Covariance matrix encoding"
   ]
  },
  {
   "cell_type": "code",
   "execution_count": null,
   "metadata": {},
   "outputs": [],
   "source": [
    "print(train_data.shape)\n",
    "nrow = train_data.shape[0]\n",
    "ncol = train_data.shape[1]\n",
    "print(ncol)\n",
    "\n",
    "plt.figure(figsize=(ncol, ncol))\n",
    "corrplot(train_data.corr(), size_scale=500);\n",
    "# sns.heatmap(train_data.corr())"
   ]
  },
  {
   "cell_type": "markdown",
   "metadata": {},
   "source": [
    "# Categorical values study\n",
    "\n",
    "we will use one-hot encoding for categorical variables to be able to move forward with dataset assessment, exploration, analysis and prediction through the use of different techniques.\n",
    "\n",
    "categorical variables :\n",
    "\n",
    "MSSubClass , MSZoning , MSZoning , Street , Alley , LotShape , LandContour , Utilities , LotConfig , LandSlope , Neighborhood , Condition1 , Condition2 , BldgType , HouseStyle , OverallQual , OverallCond , RoofStyle , RoofMatl , Exterior1st , Exterior2nd , MasVnrType , ExterQual , ExterCond , Foundation , BsmtQual , BsmtCond , BsmtExposure , BsmtFinType1 , BsmtFinType2 , Heating , HeatingQC , CentralAir , Electrical , KitchenQual , Functional , FireplaceQu , GarageType , GarageFinish , GarageQual , GarageCond , PavedDrive , PoolQC , Fence , MiscFeature , SaleType , SaleCondition"
   ]
  },
  {
   "cell_type": "markdown",
   "metadata": {},
   "source": [
    "## Categorical variables class imbalance plotting\n",
    "\n",
    "looking at class imbalance within each categorical variable in order to drop the less represented class that do not bring any valuable information due to their rarity."
   ]
  },
  {
   "cell_type": "code",
   "execution_count": null,
   "metadata": {},
   "outputs": [],
   "source": []
  },
  {
   "cell_type": "markdown",
   "metadata": {},
   "source": [
    "## categorical variables one-hot encoding"
   ]
  },
  {
   "cell_type": "code",
   "execution_count": null,
   "metadata": {},
   "outputs": [],
   "source": [
    "categorical_variables = [\n",
    "    'MSSubClass','MSZoning','Street','Alley',\n",
    "    'LotShape','LandContour','Utilities','LotConfig','LandSlope',\n",
    "    'Neighborhood','Condition1','Condition2','BldgType','HouseStyle',\n",
    "    'OverallQual','OverallCond','YearBuilt','YearRemodAdd','RoofStyle',\n",
    "    'RoofMatl','Exterior1st','Exterior2nd','MasVnrType','ExterQual',\n",
    "    'ExterCond','Foundation','BsmtQual','BsmtCond',\n",
    "    'BsmtExposure','BsmtFinType1','BsmtFinType2',\n",
    "    'Heating','HeatingQC','CentralAir','Electrical','KitchenQual',\n",
    "    'Functional','FireplaceQu','GarageType','GarageYrBlt','GarageFinish','GarageQual',\n",
    "    'GarageCond','PavedDrive','PoolQC','Fence','MiscFeature','MoSold','YrSold',\n",
    "    'SaleType','SaleCondition'\n",
    "]\n",
    "\n",
    "quant_variables = list(set(train_data.columns.values) - set(categorical_variables))\n",
    "\n",
    "#print(categorical_values)\n",
    "#print(train_data.columns.values)\n",
    "print(quant_variables)"
   ]
  },
  {
   "cell_type": "code",
   "execution_count": null,
   "metadata": {},
   "outputs": [],
   "source": [
    "encode_train_data = pd.DataFrame()\n",
    "\n",
    "one_hot_encoded_variables = pd.get_dummies(train_data[categorical_variables], columns=categorical_variables)\n",
    "print(one_hot_encoded.head())\n",
    "\n",
    "encoded_train_data = pd.merge(one_hot_encoded_variables, train_data[quant_variables],\n",
    "                              how='outer', left_on='Id', right_on='Id')\n",
    "print(encoded_train_data.head())"
   ]
  },
  {
   "cell_type": "markdown",
   "metadata": {},
   "source": [
    "## Feature Engineering"
   ]
  }
 ],
 "metadata": {
  "kernelspec": {
   "display_name": "Python 3",
   "language": "python",
   "name": "python3"
  },
  "language_info": {
   "codemirror_mode": {
    "name": "ipython",
    "version": 3
   },
   "file_extension": ".py",
   "mimetype": "text/x-python",
   "name": "python",
   "nbconvert_exporter": "python",
   "pygments_lexer": "ipython3",
   "version": "3.8.2"
  }
 },
 "nbformat": 4,
 "nbformat_minor": 4
}
