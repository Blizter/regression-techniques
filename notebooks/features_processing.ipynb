{
 "cells": [
  {
   "cell_type": "markdown",
   "metadata": {},
   "source": [
    "***Note* : In this notebook different techniques are used to understand what features allow us to explain the Sale price of a house. this step of the process has three parts, first, Feature feature Importance, then feature extraction, finally feauture extraction.**"
   ]
  },
  {
   "cell_type": "code",
   "execution_count": 4,
   "metadata": {},
   "outputs": [
    {
     "name": "stderr",
     "output_type": "stream",
     "text": [
      "/home/eric/.pyenv/versions/3.7.9/lib/python3.7/importlib/_bootstrap.py:219: RuntimeWarning: numpy.ufunc size changed, may indicate binary incompatibility. Expected 192 from C header, got 216 from PyObject\n",
      "  return f(*args, **kwds)\n"
     ]
    }
   ],
   "source": [
    "# importing required libraries and utilities\n",
    "import itertools\n",
    "\n",
    "import pandas as pd\n",
    "from sklearn.preprocessing import RobustScaler"
   ]
  },
  {
   "cell_type": "code",
   "execution_count": 5,
   "metadata": {},
   "outputs": [],
   "source": [
    "# importing processed data\n",
    "X_train = pd.read_csv(\"../data/processed/training_features.csv\", delimiter=\",\",header=0, index_col=0)\n",
    "X_test = pd.read_csv(\"../data/processed/test_set.csv\", delimiter=\",\",header=0, index_col=0)\n",
    "y_train = pd.read_csv(\"../data/processed/training_target.csv\", delimiter=\",\",header=0, index_col=0)\n",
    "\n",
    "# import a csv, convert to list\n",
    "numeric_features = pd.read_csv(\"../data/processed/numeric_features_list.csv\", delimiter=\",\",header=0, index_col=0).values.tolist()\n",
    "# flatten list of lists\n",
    "numeric_features = list(itertools.chain(*numeric_features))"
   ]
  },
  {
   "cell_type": "code",
   "execution_count": 6,
   "metadata": {},
   "outputs": [],
   "source": [
    "## Scaling numeric features and target for improved results since \n",
    "## value interval are smaller compared to original space\n",
    "numeric_features_scaler = RobustScaler()\n",
    "target_feature_scaler = RobustScaler()\n",
    "\n",
    "X_train[numeric_features] = numeric_features_scaler.fit_transform(X_train[numeric_features])\n",
    "X_test[numeric_features]  = numeric_features_scaler.transform(X_test[numeric_features])\n",
    "y_train = target_feature_scaler.fit_transform(y_train)"
   ]
  },
  {
   "cell_type": "code",
   "execution_count": 11,
   "metadata": {},
   "outputs": [
    {
     "name": "stdout",
     "output_type": "stream",
     "text": [
      "(1453, 248)\n",
      "(1459, 248)\n",
      "(1453, 1)\n"
     ]
    }
   ],
   "source": [
    "print(X_train.shape)\n",
    "print(X_test.shape)\n",
    "print(y_train.shape)"
   ]
  },
  {
   "cell_type": "markdown",
   "metadata": {},
   "source": [
    "# Feature Importance"
   ]
  },
  {
   "cell_type": "markdown",
   "metadata": {},
   "source": [
    "## Regressions"
   ]
  },
  {
   "cell_type": "code",
   "execution_count": 7,
   "metadata": {},
   "outputs": [],
   "source": [
    "from sklearn.linear_model import LinearRegression, Lasso, Ridge, ElasticNet"
   ]
  },
  {
   "cell_type": "markdown",
   "metadata": {},
   "source": [
    "### Multiple linear regression"
   ]
  },
  {
   "cell_type": "code",
   "execution_count": 16,
   "metadata": {},
   "outputs": [
    {
     "data": {
      "text/plain": [
       "array([[ 1.50500931e-02,  7.67850612e-02,  1.49465858e-01,\n",
       "         5.27275826e-03,  4.97713125e-02,  1.30563498e-01,\n",
       "         7.30099623e-02,  7.79641476e-02,  1.06724883e-02,\n",
       "        -6.57417172e-02,  3.52046531e-02, -4.69959138e-03,\n",
       "         3.72691205e-02,  5.16198315e-02,  6.00133152e-02,\n",
       "         3.42448063e-02, -1.06497686e-02, -1.79286462e-02,\n",
       "        -3.54571245e-02,  5.42608904e-02,  1.35056247e-01,\n",
       "         1.70066854e-02,  2.46275502e-02,  4.05133130e-03,\n",
       "        -1.16851568e-01,  6.58058425e-02,  5.09911557e-02,\n",
       "         7.46121416e-02,  8.64027377e-02, -2.92244523e-02,\n",
       "        -3.02507611e-01,  4.25237263e-02,  2.16915724e-02,\n",
       "         8.36786335e-02, -4.20206002e-02,  1.46512447e-02,\n",
       "         6.07780369e-02,  3.04521921e-02,  2.23188857e-01,\n",
       "         4.25587141e-02,  3.25549380e-02,  7.70370921e-03,\n",
       "         1.66815580e-03,  3.28607165e-03,  1.59258882e-02,\n",
       "        -2.03326341e-02,  4.48850808e-01, -3.76875896e-02,\n",
       "         5.24756001e-01, -8.45532208e-02, -3.34479252e-02,\n",
       "        -9.46117019e-03, -1.71743540e+10, -1.71743540e+10,\n",
       "        -8.41371841e+10, -1.71743540e+10, -1.71743540e+10,\n",
       "        -1.71743540e+10, -1.71743540e+10, -1.71743540e+10,\n",
       "        -1.71743540e+10, -1.71743540e+10, -1.71743540e+10,\n",
       "        -1.71743540e+10, -1.71743540e+10, -1.71743540e+10,\n",
       "        -1.71743540e+10, -3.00313004e+10, -3.00313004e+10,\n",
       "        -3.00313004e+10, -3.00313004e+10, -3.00313004e+10,\n",
       "         3.08661619e+10,  3.08661619e+10,  3.08661619e+10,\n",
       "        -6.09419683e+09, -6.09419682e+09, -6.09419683e+09,\n",
       "        -6.09419683e+09, -1.75993405e+10, -1.75993405e+10,\n",
       "        -1.75993405e+10, -1.75993405e+10, -1.75993405e+10,\n",
       "         4.30738400e+09,  4.30738400e+09,  4.30738400e+09,\n",
       "         4.30738400e+09,  4.30738400e+09,  4.30738400e+09,\n",
       "         4.30738400e+09,  4.30738399e+09,  4.30738399e+09,\n",
       "         4.30738400e+09,  4.30738399e+09,  4.30738399e+09,\n",
       "         4.30738400e+09,  4.30738400e+09,  4.30738399e+09,\n",
       "         4.30738400e+09,  4.30738400e+09,  4.30738400e+09,\n",
       "         4.30738400e+09,  4.30738400e+09,  4.30738400e+09,\n",
       "         4.30738400e+09,  4.30738400e+09,  4.30738400e+09,\n",
       "         4.30738400e+09,  1.12352446e+10,  1.12352446e+10,\n",
       "         1.12352446e+10,  1.12352446e+10,  1.12352446e+10,\n",
       "         1.12352446e+10,  1.12352446e+10,  1.12352446e+10,\n",
       "         1.12352446e+10, -2.69571914e+08, -2.69571914e+08,\n",
       "        -2.69571914e+08, -2.69571913e+08, -2.69571914e+08,\n",
       "        -2.69571914e+08, -2.69571914e+08, -2.69571914e+08,\n",
       "        -1.05836772e+11, -1.05836772e+11, -3.88739418e+10,\n",
       "        -1.05836772e+11, -1.05836772e+11, -2.57703409e+10,\n",
       "        -2.57703409e+10, -2.57703409e+10, -2.57703409e+10,\n",
       "        -2.57703409e+10, -2.57703409e+10, -2.57703409e+10,\n",
       "        -2.57703409e+10,  2.08074552e+10,  2.08074552e+10,\n",
       "         2.08074552e+10,  2.08074552e+10,  2.08074552e+10,\n",
       "         2.08074552e+10, -6.74632208e+09, -6.74632208e+09,\n",
       "        -6.74632208e+09, -6.74632208e+09, -6.74632208e+09,\n",
       "        -6.74632208e+09, -6.74632208e+09,  1.20405362e+10,\n",
       "         1.20405362e+10,  1.20405362e+10,  1.20405362e+10,\n",
       "        -3.99999670e+09,  1.20405362e+10,  1.20405362e+10,\n",
       "         1.20405362e+10,  1.20405362e+10, -1.39675399e+02,\n",
       "         1.20405362e+10,  1.20405362e+10,  1.20405362e+10,\n",
       "         1.20405362e+10,  1.20405362e+10,  1.20405362e+10,\n",
       "        -2.54594534e+10, -2.54594534e+10, -2.54594534e+10,\n",
       "        -2.54594534e+10, -9.41892046e+09, -2.54594534e+10,\n",
       "        -2.54594534e+10, -2.54594534e+10, -2.54594534e+10,\n",
       "        -2.54594534e+10, -2.54594534e+10, -2.54594534e+10,\n",
       "        -2.54594534e+10, -2.54594534e+10, -2.54594534e+10,\n",
       "        -2.54594534e+10,  1.66952316e+10,  1.66952316e+10,\n",
       "         1.66952316e+10,  1.66952316e+10,  6.41679206e+10,\n",
       "         6.41679206e+10,  6.41679206e+10,  6.41679206e+10,\n",
       "         6.41679206e+10,  6.41679206e+10,  5.79891718e+09,\n",
       "         5.79891718e+09,  5.79891718e+09,  5.79891718e+09,\n",
       "         5.79891718e+09,  5.79891718e+09,  2.16010084e+10,\n",
       "         2.16010084e+10,  2.16010084e+10,  2.16010084e+10,\n",
       "         2.16010084e+10, -6.27826036e+09, -6.27826036e+09,\n",
       "        -6.27826036e+09, -6.27826036e+09, -6.27826036e+09,\n",
       "        -6.27826036e+09, -6.27826036e+09, -4.39288312e+10,\n",
       "        -4.39288312e+10, -4.39288312e+10, -4.39288312e+10,\n",
       "        -4.39288312e+10, -4.39288312e+10, -4.39288312e+10,\n",
       "        -3.81174283e+09, -3.81174283e+09, -3.81174283e+09,\n",
       "         2.20369332e+10,  2.20369332e+10,  2.20369332e+10,\n",
       "         2.20369332e+10,  2.20369332e+10, -5.27424437e+09,\n",
       "        -5.27424437e+09, -5.27424437e+09, -5.27424437e+09,\n",
       "        -5.27424437e+09,  3.61164792e+09,  3.61164792e+09,\n",
       "         3.61164792e+09,  3.61164792e+09,  3.61164792e+09,\n",
       "         3.61164792e+09,  3.61164792e+09,  3.61164792e+09,\n",
       "         0.00000000e+00,  3.61164792e+09,  2.68597597e+09,\n",
       "         2.68597597e+09,  2.68597597e+09,  2.68597597e+09,\n",
       "         2.68597597e+09,  2.68597597e+09]])"
      ]
     },
     "execution_count": 16,
     "metadata": {},
     "output_type": "execute_result"
    }
   ],
   "source": [
    "ML_regression = LinearRegression().fit(X_train, y_train)\n",
    "ML_regression.coef_"
   ]
  },
  {
   "cell_type": "markdown",
   "metadata": {},
   "source": [
    "### Lasso"
   ]
  },
  {
   "cell_type": "code",
   "execution_count": null,
   "metadata": {},
   "outputs": [],
   "source": []
  },
  {
   "cell_type": "markdown",
   "metadata": {},
   "source": [
    "### Ridge"
   ]
  },
  {
   "cell_type": "code",
   "execution_count": null,
   "metadata": {},
   "outputs": [],
   "source": []
  },
  {
   "cell_type": "markdown",
   "metadata": {},
   "source": [
    "### Elasticnet"
   ]
  },
  {
   "cell_type": "code",
   "execution_count": null,
   "metadata": {},
   "outputs": [],
   "source": []
  },
  {
   "cell_type": "markdown",
   "metadata": {},
   "source": [
    "## Decision Trees and Random Forests\n",
    "### Decision Tree\n",
    "### RF\n",
    "### Boosted"
   ]
  },
  {
   "cell_type": "code",
   "execution_count": null,
   "metadata": {},
   "outputs": [],
   "source": []
  }
 ],
 "metadata": {
  "kernelspec": {
   "display_name": "Python 3",
   "language": "python",
   "name": "python3"
  },
  "language_info": {
   "codemirror_mode": {
    "name": "ipython",
    "version": 3
   },
   "file_extension": ".py",
   "mimetype": "text/x-python",
   "name": "python",
   "nbconvert_exporter": "python",
   "pygments_lexer": "ipython3",
   "version": "3.7.9"
  }
 },
 "nbformat": 4,
 "nbformat_minor": 4
}
