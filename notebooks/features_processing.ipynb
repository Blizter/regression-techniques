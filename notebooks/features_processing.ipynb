{
 "cells": [
  {
   "cell_type": "markdown",
   "metadata": {},
   "source": [
    "***Note* : In this notebook different techniques are used to understand what features allow us to explain the Sale price of a house. this step of the process has three parts, first, Feature feature Importance, then feature extraction, finally feauture extraction.**"
   ]
  },
  {
   "cell_type": "code",
   "execution_count": 13,
   "metadata": {},
   "outputs": [],
   "source": [
    "# importing required libraries and utilities\n",
    "import itertools\n",
    "\n",
    "import pandas as pd\n",
    "from sklearn.preprocessing import RobustScaler"
   ]
  },
  {
   "cell_type": "code",
   "execution_count": 14,
   "metadata": {},
   "outputs": [],
   "source": [
    "# importing processed data\n",
    "X_train = pd.read_csv(\"../data/processed/training_features.csv\", delimiter=\",\",header=0, index_col=0)\n",
    "X_test = pd.read_csv(\"../data/processed/test_set.csv\", delimiter=\",\",header=0, index_col=0)\n",
    "y_train = pd.read_csv(\"../data/processed/training_target.csv\", delimiter=\",\",header=0, index_col=0)\n",
    "\n",
    "# import a csv, convert to list\n",
    "numeric_features = pd.read_csv(\"../data/processed/numeric_features_list.csv\", delimiter=\",\",header=0, index_col=0).values.tolist()\n",
    "# flatten list of lists\n",
    "numeric_features = list(itertools.chain(*numeric_features))"
   ]
  },
  {
   "cell_type": "code",
   "execution_count": 15,
   "metadata": {},
   "outputs": [],
   "source": [
    "## Scaling numeric features and target for improved results since \n",
    "## value interval are smaller compared to original space\n",
    "numeric_features_scaler = RobustScaler()\n",
    "target_feature_scaler = RobustScaler()\n",
    "\n",
    "X_train[numeric_features] = numeric_features_scaler.fit_transform(X_train[numeric_features])\n",
    "X_test[numeric_features]  = numeric_features_scaler.transform(X_test[numeric_features])\n",
    "y_train = target_feature_scaler.fit_transform(y_train)"
   ]
  },
  {
   "cell_type": "markdown",
   "metadata": {},
   "source": [
    "# Feature Importance"
   ]
  },
  {
   "cell_type": "markdown",
   "metadata": {},
   "source": [
    "## Regressions\n",
    "  \n",
    "### Multiple linear regression\n",
    "### Lasso\n",
    "### Ridge\n",
    "### Elasticnet"
   ]
  },
  {
   "cell_type": "markdown",
   "metadata": {},
   "source": [
    "## Decision Trees and Random Forests\n",
    "### Decision Tree\n",
    "### RF\n",
    "### Boosted"
   ]
  },
  {
   "cell_type": "code",
   "execution_count": null,
   "metadata": {},
   "outputs": [],
   "source": []
  }
 ],
 "metadata": {
  "kernelspec": {
   "display_name": "Python 3",
   "language": "python",
   "name": "python3"
  },
  "language_info": {
   "codemirror_mode": {
    "name": "ipython",
    "version": 3
   },
   "file_extension": ".py",
   "mimetype": "text/x-python",
   "name": "python",
   "nbconvert_exporter": "python",
   "pygments_lexer": "ipython3",
   "version": "3.7.9"
  }
 },
 "nbformat": 4,
 "nbformat_minor": 4
}
