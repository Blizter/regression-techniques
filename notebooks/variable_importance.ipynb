{
 "cells": [
  {
   "cell_type": "markdown",
   "metadata": {},
   "source": [
    "In this notebook we'll check what variable help to explain the price of a house"
   ]
  },
  {
   "cell_type": "code",
   "execution_count": null,
   "metadata": {},
   "outputs": [],
   "source": [
    "X_train = pd.read_csv(\"../data/processed/encoded_train_data.csv\", delimiter=\",\",header=0, index_col=0)\n",
    "X_test = pd.read_csv(\"../data/processed/encoded_train_data.csv\", delimiter=\",\",header=0, index_col=0)\n",
    "y_train = pd.read_csv(\"../data/processed/encoded_train_data.csv\", delimiter=\",\",header=0, index_col=0)"
   ]
  },
  {
   "cell_type": "code",
   "execution_count": null,
   "metadata": {},
   "outputs": [],
   "source": [
    "## Remove SalePrice from numeric_features to avoid scaling it\n",
    "numeric_features = numeric_features.drop('SalePrice')\n",
    "\n",
    "## Scaling all the numeric features using Robust Scaler\n",
    "from sklearn.preprocessing import RobustScaler\n",
    "scaler = RobustScaler()\n",
    "\n",
    "X_train[numeric_features] = scaler.fit_transform(X_train[numeric_features])\n",
    "X_test[numeric_features]  = scaler.transform(X_test[numeric_features])\n",
    "y_train"
   ]
  },
  {
   "cell_type": "markdown",
   "metadata": {},
   "source": [
    "# Regressions\n",
    "  \n",
    "## Multiple linear regression\n",
    "## Lasso\n",
    "## Ridge\n",
    "## Elasticnet"
   ]
  },
  {
   "cell_type": "markdown",
   "metadata": {},
   "source": [
    "# Decision Trees and Random Forests\n",
    "## Decision Tree\n",
    "## RF\n",
    "## Boosted"
   ]
  },
  {
   "cell_type": "code",
   "execution_count": null,
   "metadata": {},
   "outputs": [],
   "source": []
  }
 ],
 "metadata": {
  "kernelspec": {
   "display_name": "Python 3",
   "language": "python",
   "name": "python3"
  },
  "language_info": {
   "codemirror_mode": {
    "name": "ipython",
    "version": 3
   },
   "file_extension": ".py",
   "mimetype": "text/x-python",
   "name": "python",
   "nbconvert_exporter": "python",
   "pygments_lexer": "ipython3",
   "version": "3.7.9"
  }
 },
 "nbformat": 4,
 "nbformat_minor": 4
}
